{
 "cells": [
  {
   "cell_type": "code",
   "execution_count": 1,
   "metadata": {},
   "outputs": [],
   "source": [
    "# Done\n",
    "# Welcome Aditya Modi from Using Databases with Python\n",
    "\n",
    "# To get credit for this assignment, perform the instructions below and upload your SQLite3 database here:\n",
    "\n",
    "# (Must have a .sqlite suffix)\n",
    "# Hint: The top organizational count is 536.\n",
    "\n",
    "# You do not need to export or convert the database - simply upload the .sqlite file that your program creates. See the example code for the use of the connect() statement.\n",
    "\n",
    "# Counting Organizations\n",
    "# This application will read the mailbox data (mbox.txt) and \n",
    "# count the number of email messages per organization (i.e. domain name of the email address) \n",
    "# using a database with the following schema to maintain the counts.\n",
    "\n",
    "# CREATE TABLE Counts (org TEXT, count INTEGER)\n",
    "# When you have run the program on mbox.txt upload the resulting database file above for grading.\n",
    "# If you run the program multiple times in testing or with dfferent files, make sure to empty out the data before each run.\n",
    "\n",
    "# You can use this code as a starting point for your application: http://www.py4e.com/code3/emaildb.py.\n",
    "\n",
    "# The data file for this application is the same as in previous assignments: http://www.py4e.com/code3/mbox.txt.\n",
    "\n",
    "# Because the sample code is using an UPDATE statement and \n",
    "# committing the results to the database as each record is read in the loop, \n",
    "# it might take as long as a few minutes to process all the data. \n",
    "# The commit insists on completely writing all the data to disk every time it is called.\n",
    "\n",
    "# The program can be speeded up greatly by moving the commit operation outside of the loop. \n",
    "# In any database program, there is a balance between the number of operations you execute between commits\n",
    "# and the importance of not losing the results of operations that have not yet been committed.\n",
    "\n",
    "# Select Language​▼"
   ]
  },
  {
   "cell_type": "code",
   "execution_count": null,
   "metadata": {},
   "outputs": [],
   "source": [
    "read the mailbox data (mbox.txt)\n",
    "count the number of email messages per organization \n",
    "(i.e. domain name of the email address) using a database with the following schema to maintain the counts.\n",
    "CREATE TABLE Counts (org TEXT, count INTEGER)\n",
    "\n",
    "\n"
   ]
  },
  {
   "cell_type": "code",
   "execution_count": 2,
   "metadata": {},
   "outputs": [],
   "source": [
    "#  https://stackoverflow.com/questions/16559037/how-to-put-a-textfile-into-sqlite-simply-using-python-api\n",
    "\n",
    "# C:\\Users\\Aditya Modi\\Desktop\\Py\\mbox.txt\n",
    "#  C:\\Users\\Aditya Modi\\Desktop\\Py\\Counting Organizations.db\n",
    "\n",
    "import sqlite3\n",
    "conn = sqlite3.connect('emaildb.sqlite')\n",
    "cur = conn.cursor()\n",
    "cur.execute('DROP TABLE IF EXISTS Counts')\n",
    "\n",
    "cur.execute('''\n",
    "CREATE TABLE Counts (email TEXT, count INTEGER)''')    \n",
    "\n",
    "fname = input('Enter file name: ')\n",
    "if (len(fname) < 1): fname = 'mbox-short.txt'\n",
    "fh = open(fname)\n",
    "for line in fh:\n",
    "    if not line.startswith('From: '): continue\n",
    "    pieces = line.split()\n",
    "    email = pieces[1]\n",
    "    cur.execute('SELECT count FROM Counts WHERE email = ? ', (email,))        # ? ', (email,)\n",
    "    row = cur.fetchone()                                                    # how is it linking to above statement\n",
    "    if row is None:\n",
    "        cur.execute('''INSERT INTO Counts (email, count) VALUES (?, 1)''', (email,))    \n",
    "    else:\n",
    "        cur.execute('UPDATE Counts SET count = count + 1 WHERE email = ?',(email,))   # \n",
    "    conn.commit()\n",
    "\n",
    "# https://www.sqlite.org/lang_select.html\n",
    "sqlstr = 'SELECT email, count FROM Counts ORDER BY count DESC LIMIT 10'\n",
    "\n",
    "for row in cur.execute(sqlstr):\n",
    "    print(str(row[0]), row[1])\n",
    "\n",
    "cur.close()"
   ]
  },
  {
   "cell_type": "code",
   "execution_count": 1,
   "metadata": {},
   "outputs": [
    {
     "name": "stdout",
     "output_type": "stream",
     "text": [
      "zqian@umich.edu 195\n",
      "mmmay@indiana.edu 161\n",
      "cwen@iupui.edu 158\n",
      "chmaurer@iupui.edu 111\n",
      "aaronz@vt.edu 110\n",
      "ian@caret.cam.ac.uk 96\n",
      "jimeng@umich.edu 93\n",
      "rjlowe@iupui.edu 90\n",
      "dlhaines@umich.edu 84\n",
      "david.horwitz@uct.ac.za 67\n"
     ]
    }
   ],
   "source": [
    "# C:\\Users\\Aditya Modi\\Desktop\\Py\\mbox.txt.txt\n",
    "import sqlite3\n",
    "conn = sqlite3.connect('emaildb.sqlite')\n",
    "cur = conn.cursor()\n",
    "cur.execute('DROP TABLE IF EXISTS COUNTS')\n",
    "\n",
    "cur.execute('''CREATE TABLE Counts (email TEXT, count INTEGER)''')\n",
    "fh = open(r'C:\\Users\\Aditya Modi\\Desktop\\Py\\mbox.txt.txt')\n",
    "for line in fh:\n",
    "    if not line.startswith('From: '): continue\n",
    "    piece = line.split()\n",
    "    email = piece[1]\n",
    "    cur.execute('SELECT count FROM Counts WHERE email = ? ',(email,))                           # email = ? ',(email,))\n",
    "    row = cur.fetchone()                                                                        # cur.fetchone() \n",
    "    \n",
    "                                                                                                # when does it enter sql , \n",
    "                                                                                                #\n",
    "    if row is None:\n",
    "        cur.execute('''INSERT INTO Counts (email, count) VALUES (?, 1)''', (email,))            \n",
    "    else:\n",
    "        cur.execute('UPDATE Counts SET count = count + 1 WHERE email = ?',(email,))          # where is it updating\n",
    "        \n",
    "        \n",
    "        \n",
    "sqlstr = 'SELECT email, count FROM Counts ORDER BY count DESC LIMIT 10'\n",
    "\n",
    "\n",
    "for row in cur.execute(sqlstr):\n",
    "    print(str(row[0]),row[1])\n",
    "\n",
    "    \n",
    "cur.close()\n",
    "conn.commit()"
   ]
  },
  {
   "cell_type": "code",
   "execution_count": null,
   "metadata": {},
   "outputs": [],
   "source": []
  }
 ],
 "metadata": {
  "kernelspec": {
   "display_name": "Python 3",
   "language": "python",
   "name": "python3"
  },
  "language_info": {
   "codemirror_mode": {
    "name": "ipython",
    "version": 3
   },
   "file_extension": ".py",
   "mimetype": "text/x-python",
   "name": "python",
   "nbconvert_exporter": "python",
   "pygments_lexer": "ipython3",
   "version": "3.6.5"
  }
 },
 "nbformat": 4,
 "nbformat_minor": 2
}
