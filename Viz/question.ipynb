{
 "cells": [
  {
   "cell_type": "code",
   "execution_count": null,
   "metadata": {},
   "outputs": [],
   "source": [
    "Done\n",
    "Welcome Aditya Modi from Using Databases with Python\n",
    "\n",
    "Retrieving GEOData\n",
    "Download the code from http://www.py4e.com/code3/geodata.zip - \n",
    "then unzip the file and \n",
    "\n",
    "edit where.data to add an address nearby where you live - don't reveal your actual location. \n",
    "Then run the geoload.py to lookup all of the entries in where.data (including the new one) and \n",
    "produce the geodata.sqlite. \n",
    "Then run geodump.py to read the database and produce where.js. \n",
    "Then open where.html to visualize the map. Take screen shots as described below.\n",
    "\n",
    "This is a relatively simple assignment. Don't take off points for little mistakes. If they seem to have done the assignment give them full credit. Feel free to make suggestions if there are small mistakes. Please keep your comments positive and useful. If you do not take grading seriously, the instructors may delete your response and you will lose points.\n"
   ]
  }
 ],
 "metadata": {
  "kernelspec": {
   "display_name": "Python 3",
   "language": "python",
   "name": "python3"
  },
  "language_info": {
   "codemirror_mode": {
    "name": "ipython",
    "version": 3
   },
   "file_extension": ".py",
   "mimetype": "text/x-python",
   "name": "python",
   "nbconvert_exporter": "python",
   "pygments_lexer": "ipython3",
   "version": "3.6.5"
  }
 },
 "nbformat": 4,
 "nbformat_minor": 2
}
