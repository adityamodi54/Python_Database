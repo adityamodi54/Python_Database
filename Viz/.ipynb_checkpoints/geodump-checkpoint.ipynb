{
 "cells": [
  {
   "cell_type": "code",
   "execution_count": 10,
   "metadata": {},
   "outputs": [
    {
     "name": "stdout",
     "output_type": "stream",
     "text": [
      "Toronto, Toronto, ON M5S, Canada 43.659598 -79.3947916\n",
      "1 records written to where.js\n",
      "Open where.html to view the data in a browser\n"
     ]
    }
   ],
   "source": [
    "import sqlite3\n",
    "import json\n",
    "import codecs\n",
    "\n",
    "conn = sqlite3.connect('geodata.sqlite')\n",
    "cur = conn.cursor()\n",
    "\n",
    "address='University of Toronto'\n",
    "cur.execute(\"SELECT * FROM Locations WHERE address= ?\", (memoryview(address.encode()), )) \n",
    "fhand = codecs.open(r'C:\\Users\\Aditya Modi\\Desktop\\Py\\geodata\\geodata\\where.js', 'w', \"utf-8\")     #  'w', \"utf-8\"\n",
    "fhand.write(\"myData = [\\n\")                       #    write(\"myData = [\\n\")\n",
    "\n",
    "count = 0\n",
    "for row in cur :\n",
    "    data = str(row[1].decode())                    # ?\n",
    "    try: js = json.loads(str(data))\n",
    "    except: continue\n",
    "\n",
    "    if not('status' in js and js['status'] == 'OK') : continue  \n",
    "\n",
    "    lat = js[\"results\"][0][\"geometry\"][\"location\"][\"lat\"]  \n",
    "    lng = js[\"results\"][0][\"geometry\"][\"location\"][\"lng\"]\n",
    "    if lat == 0 or lng == 0 : continue\n",
    "    where = js['results'][0]['formatted_address']\n",
    "    where = where.replace(\"'\", \"\")                               \n",
    "    try :\n",
    "        print(where, lat, lng)\n",
    "\n",
    "        count = count + 1                               \n",
    "        if count > 1 : fhand.write(\",\\n\")\n",
    "        output = \"[\"+str(lat)+\",\"+str(lng)+\", '\"+where+\"']\"                                              #?\n",
    "        fhand.write(output)\n",
    "    except:\n",
    "        continue\n",
    "\n",
    "fhand.write(\"\\n];\\n\")\n",
    "cur.close()\n",
    "fhand.close()\n",
    "print(count, \"records written to where.js\")\n",
    "print(\"Open where.html to view the data in a browser\")"
   ]
  }
 ],
 "metadata": {
  "kernelspec": {
   "display_name": "Python 3",
   "language": "python",
   "name": "python3"
  },
  "language_info": {
   "codemirror_mode": {
    "name": "ipython",
    "version": 3
   },
   "file_extension": ".py",
   "mimetype": "text/x-python",
   "name": "python",
   "nbconvert_exporter": "python",
   "pygments_lexer": "ipython3",
   "version": "3.6.5"
  }
 },
 "nbformat": 4,
 "nbformat_minor": 2
}
