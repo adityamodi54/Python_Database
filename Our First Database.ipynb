{
 "cells": [
  {
   "cell_type": "code",
   "execution_count": 1,
   "metadata": {},
   "outputs": [
    {
     "ename": "SyntaxError",
     "evalue": "invalid syntax (<ipython-input-1-c1d39bd81820>, line 2)",
     "output_type": "error",
     "traceback": [
      "\u001b[1;36m  File \u001b[1;32m\"<ipython-input-1-c1d39bd81820>\"\u001b[1;36m, line \u001b[1;32m2\u001b[0m\n\u001b[1;33m    Welcome Aditya Modi from Using Databases with Python\u001b[0m\n\u001b[1;37m                 ^\u001b[0m\n\u001b[1;31mSyntaxError\u001b[0m\u001b[1;31m:\u001b[0m invalid syntax\n"
     ]
    }
   ],
   "source": [
    "Done\n",
    "Welcome Aditya Modi from Using Databases with Python\n",
    "\n",
    "To get credit for this assignment, perform the instructions below and enter the code you get here: \n",
    "\n",
    " \n",
    "(Hint: starts with 436)\n",
    "Instructions\n",
    "If you don't already have it, install the SQLite Browser from http://sqlitebrowser.org/.\n",
    "\n",
    "Then, create a SQLITE database or use an existing database and create a table in the database called \"Ages\":\n",
    "\n",
    "CREATE TABLE Ages ( \n",
    "  name VARCHAR(128), \n",
    "  age INTEGER\n",
    ")\n",
    "Then make sure the table is empty by deleting any rows that you previously inserted, and insert these rows and only these rows with the following commands:\n",
    "\n",
    "DELETE FROM Ages;\n",
    "INSERT INTO Ages (name, age) VALUES ('Caelainn', 34);\n",
    "INSERT INTO Ages (name, age) VALUES ('Roy', 24);\n",
    "INSERT INTO Ages (name, age) VALUES ('Chardonnay', 28);\n",
    "INSERT INTO Ages (name, age) VALUES ('Shihed', 19);\n",
    "INSERT INTO Ages (name, age) VALUES ('Zachariah', 30);\n",
    "INSERT INTO Ages (name, age) VALUES ('Jazz', 25);\n",
    "Once the inserts are done, run the following SQL command:\n",
    "SELECT hex(name || age) AS X FROM Ages ORDER BY X\n",
    "Find the first row in the resulting record set and enter the long string that looks like 53656C696E613333.\n",
    "Note: This assignment must be done using SQLite - in particular, the SELECT query above will not work in any other database. So you cannot use MySQL or Oracle for this assignment.\n",
    "\n",
    "Select Language​▼"
   ]
  },
  {
   "cell_type": "code",
   "execution_count": null,
   "metadata": {},
   "outputs": [],
   "source": [
    "# CREATE TABLE Ages ( \n",
    "#   name VARCHAR(128), \n",
    "#   age INTEGER\n",
    "# )\n",
    "\n",
    "# DELETE FROM Ages;\n",
    "# INSERT INTO Ages (name, age) VALUES ('Caelainn', 34);\n",
    "# INSERT INTO Ages (name, age) VALUES ('Roy', 24);\n",
    "# INSERT INTO Ages (name, age) VALUES ('Chardonnay', 28);\n",
    "# INSERT INTO Ages (name, age) VALUES ('Shihed', 19);\n",
    "# INSERT INTO Ages (name, age) VALUES ('Zachariah', 30);\n",
    "# INSERT INTO Ages (name, age) VALUES ('Jazz', 25);\n",
    "\n",
    "\n",
    "# SELECT hex(name || age) AS X FROM Ages ORDER BY X\n"
   ]
  }
 ],
 "metadata": {
  "kernelspec": {
   "display_name": "Python 3",
   "language": "python",
   "name": "python3"
  },
  "language_info": {
   "codemirror_mode": {
    "name": "ipython",
    "version": 3
   },
   "file_extension": ".py",
   "mimetype": "text/x-python",
   "name": "python",
   "nbconvert_exporter": "python",
   "pygments_lexer": "ipython3",
   "version": "3.6.5"
  }
 },
 "nbformat": 4,
 "nbformat_minor": 2
}
