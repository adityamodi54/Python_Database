{
 "cells": [
  {
   "cell_type": "code",
   "execution_count": null,
   "metadata": {},
   "outputs": [],
   "source": [
    "Done\n",
    "Welcome Aditya Modi from Using Databases with Python\n",
    "\n",
    "Retrieving GEOData\n",
    "Download the code from http://www.py4e.com/code3/geodata.zip - then unzip the file and edit where.data to add an address nearby where you live - don't reveal your actual location. Then run the geoload.py to lookup all of the entries in where.data (including the new one) and produce the geodata.sqlite. Then run geodump.py to read the database and produce where.js. Then open where.html to visualize the map. Take screen shots as described below.\n",
    "\n",
    "This is a relatively simple assignment. Don't take off points for little mistakes. If they seem to have done the assignment give them full credit. Feel free to make suggestions if there are small mistakes. Please keep your comments positive and useful. If you do not take grading seriously, the instructors may delete your response and you will lose points.\n",
    "\n",
    "Please Upload Your Submission:\n",
    "\n",
    "Screen shot (JPG or PNG - Maximum 1MB) of the geoload.py program running \n",
    "(Please use PNG or JPG files)\n",
    "\n",
    "Screen shot (JPG or PNG - Maximum 1MB) of the geodump.py program running \n",
    "(Please use PNG or JPG files)\n",
    "\n",
    "Screen shot (JPG or PNG - Maximum 1MB) of the map zoomed into the location that you added.) of your home page. \n",
    "(Please use PNG or JPG files)\n",
    "\n",
    "Enter optional comments below\n",
    "\n",
    "\n",
    "\n",
    "Make sure each uploaded image file is smaller than 1M. Total upload size limited to 50M\n",
    "\n",
    "The total number of points for this assignment is 10. You will get up to 6 points from your peers. You will get 2 for each peer assignment you assess. You need to grade a minimum of 2 peer assignments. You can grade up to 5 peer assignments if you like.\n",
    "\n",
    "Select Language​▼"
   ]
  }
 ],
 "metadata": {
  "kernelspec": {
   "display_name": "Python 3",
   "language": "python",
   "name": "python3"
  },
  "language_info": {
   "codemirror_mode": {
    "name": "ipython",
    "version": 3
   },
   "file_extension": ".py",
   "mimetype": "text/x-python",
   "name": "python",
   "nbconvert_exporter": "python",
   "pygments_lexer": "ipython3",
   "version": "3.6.5"
  }
 },
 "nbformat": 4,
 "nbformat_minor": 2
}
